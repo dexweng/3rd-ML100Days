{
 "cells": [
  {
   "cell_type": "markdown",
   "metadata": {},
   "source": [
    "## [作業目標]\n",
    "了解機器學習適合應用的領域與範疇。"
   ]
  },
  {
   "cell_type": "markdown",
   "metadata": {},
   "source": [
    "## [作業重點]\n",
    "透過瞭解機器學習的運作方式，找出非常適用機器學習應用的領域及其原因"
   ]
  },
  {
   "cell_type": "markdown",
   "metadata": {},
   "source": [
    "## 作業\n",
    "請找出一個你認為機器學習可以發光發熱的領域並闡述原因? "
   ]
  },
  {
   "cell_type": "markdown",
   "metadata": {},
   "source": [
    "我認為在影音領域目前還有非常大的發展空間，特別是後製剪輯這一塊，為什麼呢？從Youtube的成長與發展可以發現，影音內容是近幾年來最受歡的內容形式之一，遠遠勝過文字或是圖片內容，然而，影音內容最麻煩的地方是在於拍攝以及剪輯後製這兩個部分，拍攝的這個部分就目前的技術層面來說，可能比較沒辦法透過電腦達成，因為拍攝必須與硬體設備做配合，除此之外，也要配合創作者的腳本內容等等去做角度上或是分鏡上的運作；但是，後製內容就比較不同了，除了一些創作者個人特色的剪輯風格以外，\"上字幕\"這項工作是非常繁瑣的並且重複性非常高的一件事情，如果能透過機器學習來幫助創作者上字幕，可以節省創作者不少的時間，至於為什麼我特別提到中文內容？是因為從目前Youtube的設置來看，只有英文的影音內容它會自動幫你生成字幕，中文則是要透過英文的自動生成字幕再轉一層翻譯，但是英文直翻中文的意思往往跟原意有不小的差距，這是我覺得目前在影音內容上非常大的一個問題，也非常值得可以利用機器學習來解決！"
   ]
  }
 ],
 "metadata": {
  "kernelspec": {
   "display_name": "Python 3",
   "language": "python",
   "name": "python3"
  },
  "language_info": {
   "codemirror_mode": {
    "name": "ipython",
    "version": 3
   },
   "file_extension": ".py",
   "mimetype": "text/x-python",
   "name": "python",
   "nbconvert_exporter": "python",
   "pygments_lexer": "ipython3",
   "version": "3.7.1"
  }
 },
 "nbformat": 4,
 "nbformat_minor": 2
}
